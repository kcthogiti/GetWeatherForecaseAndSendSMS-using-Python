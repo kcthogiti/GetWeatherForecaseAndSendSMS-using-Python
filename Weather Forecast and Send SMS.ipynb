{
 "cells": [
  {
   "cell_type": "code",
   "execution_count": 1,
   "metadata": {
    "collapsed": true
   },
   "outputs": [],
   "source": [
    "import requests, json\n",
    "import pandas as pd\n",
    "import datetime as dt\n",
    "from twilio.rest import Client #version 6.0.0"
   ]
  },
  {
   "cell_type": "code",
   "execution_count": 2,
   "metadata": {
    "collapsed": true
   },
   "outputs": [],
   "source": [
    "df_credentials = pd.read_csv(\"credentials.txt\", sep =\",\" ) #Keep your credentials in a text file"
   ]
  },
  {
   "cell_type": "code",
   "execution_count": 3,
   "metadata": {
    "collapsed": true
   },
   "outputs": [],
   "source": [
    "#read the credentials required to access apis\n",
    "weatherAPIKey = df_credentials['value'][0]\n",
    "account_sid = df_credentials['value'][1]\n",
    "auth_token = df_credentials['value'][2]\n",
    "from_phone = df_credentials['value'][3]\n",
    "to_phone = df_credentials['value'][4]"
   ]
  },
  {
   "cell_type": "markdown",
   "metadata": {},
   "source": [
    "<h1> Access open weather API to get the weather Forecast </h1>"
   ]
  },
  {
   "cell_type": "code",
   "execution_count": 4,
   "metadata": {
    "collapsed": true
   },
   "outputs": [],
   "source": [
    "#open weather api - You need to signup with then to get the API KEY to access their API\n",
    "url = 'http://api.openweathermap.org/data/2.5/forecast'"
   ]
  },
  {
   "cell_type": "code",
   "execution_count": 5,
   "metadata": {
    "collapsed": true
   },
   "outputs": [],
   "source": [
    "def getCityID(city):\n",
    "    params = {'q':city, 'APPID':df_credentials['value'][0] }\n",
    "    response = requests.get(url, params = params)\n",
    "    data = json.loads(response.content)\n",
    "    return data['city']['id']"
   ]
  },
  {
   "cell_type": "code",
   "execution_count": 6,
   "metadata": {
    "collapsed": false
   },
   "outputs": [],
   "source": [
    "#to get the ID of a city\n",
    "#getCityID('Alpharetta,US')"
   ]
  },
  {
   "cell_type": "code",
   "execution_count": 7,
   "metadata": {
    "collapsed": true
   },
   "outputs": [],
   "source": [
    "#to get the forecast for 5 days in a dataframe\n",
    "def getWeatherForecast(cityid, appid,units):\n",
    "    url = 'http://api.openweathermap.org/data/2.5/forecast'\n",
    "    params = {'id':cityid,'APPID':appid, 'units':units}\n",
    "    response = requests.get(url, params = params)\n",
    "    data = json.loads(response.content)\n",
    "    weather_list = data['list']\n",
    "    \n",
    "    df_list = []\n",
    "    for elem in weather_list:\n",
    "        #print(elem)\n",
    "        dict_ = {}\n",
    "        dict_['timestamp'] = elem['dt_txt']\n",
    "        dict_['max_temp'] = elem['main']['temp_max']\n",
    "        dict_['min_temp'] = elem['main']['temp_min']\n",
    "    \n",
    "        description = []\n",
    "        desc_list = elem['weather']\n",
    "        for l in desc_list:\n",
    "            description.append(l['description']) \n",
    "        dict_['description'] = ','.join(description)\n",
    "        df_list.append(dict_)\n",
    "        \n",
    "    df = pd.DataFrame(df_list)\n",
    "    df['timestamp'] = pd.to_datetime(df['timestamp'])\n",
    "    df['max_temp'] = df['max_temp'].astype(int)\n",
    "    df['min_temp'] = df['min_temp'].astype(int)\n",
    "    \n",
    "    return df"
   ]
  },
  {
   "cell_type": "markdown",
   "metadata": {},
   "source": [
    "<h1> Send SMS using Twilio with today's weather forecast </h1>"
   ]
  },
  {
   "cell_type": "code",
   "execution_count": 8,
   "metadata": {
    "collapsed": true
   },
   "outputs": [],
   "source": [
    "#send SMS using Twilio Trial account\n",
    "def sendSMS(account_sid, auth_token, from_phone, to_phone, msg):\n",
    "    client = Client(account_sid, auth_token)\n",
    "    client.messages.create(\n",
    "        to=to_phone,\n",
    "        from_=from_phone,\n",
    "        body=msg)"
   ]
  },
  {
   "cell_type": "markdown",
   "metadata": {},
   "source": [
    "<h3> Get weather forecast for my location and send as an sms </h3>"
   ]
  },
  {
   "cell_type": "code",
   "execution_count": 9,
   "metadata": {
    "collapsed": false,
    "scrolled": true
   },
   "outputs": [],
   "source": [
    "df = getWeatherForecast(4179574,weatherAPIKey,'imperial' )"
   ]
  },
  {
   "cell_type": "code",
   "execution_count": 10,
   "metadata": {
    "collapsed": false
   },
   "outputs": [
    {
     "name": "stderr",
     "output_type": "stream",
     "text": [
      "C:\\Users\\KRISHNACHAITANYA\\Anaconda2\\lib\\site-packages\\ipykernel\\__main__.py:3: SettingWithCopyWarning: \n",
      "A value is trying to be set on a copy of a slice from a DataFrame.\n",
      "Try using .loc[row_indexer,col_indexer] = value instead\n",
      "\n",
      "See the caveats in the documentation: http://pandas.pydata.org/pandas-docs/stable/indexing.html#indexing-view-versus-copy\n",
      "  app.launch_new_instance()\n"
     ]
    }
   ],
   "source": [
    "#Today's Weather Forecast\n",
    "df_today = df[df['timestamp'].dt.date == dt.date.today()]\n",
    "df_today['timestamp'] = df_today['timestamp'].dt.strftime(\"%I:%M %p\")"
   ]
  },
  {
   "cell_type": "code",
   "execution_count": 11,
   "metadata": {
    "collapsed": true
   },
   "outputs": [],
   "source": [
    "#Get the sms message to send\n",
    "message = df_today[['description','timestamp','max_temp']][0:2].to_string(index = False)"
   ]
  },
  {
   "cell_type": "code",
   "execution_count": 12,
   "metadata": {
    "collapsed": false
   },
   "outputs": [],
   "source": [
    "#send SMS\n",
    "sendSMS(account_sid, auth_token, from_phone, to_phone,message )"
   ]
  }
 ],
 "metadata": {
  "anaconda-cloud": {},
  "kernelspec": {
   "display_name": "Python [conda root]",
   "language": "python",
   "name": "conda-root-py"
  },
  "language_info": {
   "codemirror_mode": {
    "name": "ipython",
    "version": 2
   },
   "file_extension": ".py",
   "mimetype": "text/x-python",
   "name": "python",
   "nbconvert_exporter": "python",
   "pygments_lexer": "ipython2",
   "version": "2.7.12"
  }
 },
 "nbformat": 4,
 "nbformat_minor": 0
}
